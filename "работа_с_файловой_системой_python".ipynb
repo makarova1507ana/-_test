{
  "nbformat": 4,
  "nbformat_minor": 0,
  "metadata": {
    "colab": {
      "provenance": [],
      "authorship_tag": "ABX9TyPC5D2rFxIA7Ax2jQIQBpd1",
      "include_colab_link": true
    },
    "kernelspec": {
      "name": "python3",
      "display_name": "Python 3"
    },
    "language_info": {
      "name": "python"
    }
  },
  "cells": [
    {
      "cell_type": "markdown",
      "metadata": {
        "id": "view-in-github",
        "colab_type": "text"
      },
      "source": [
        "<a href=\"https://colab.research.google.com/github/makarova1507ana/-_test/blob/main/%22%D1%80%D0%B0%D0%B1%D0%BE%D1%82%D0%B0_%D1%81_%D1%84%D0%B0%D0%B9%D0%BB%D0%BE%D0%B2%D0%BE%D0%B9_%D1%81%D0%B8%D1%81%D1%82%D0%B5%D0%BC%D0%BE%D0%B9_python%22.ipynb\" target=\"_parent\"><img src=\"https://colab.research.google.com/assets/colab-badge.svg\" alt=\"Open In Colab\"/></a>"
      ]
    },
    {
      "cell_type": "markdown",
      "source": [
        "Работа с файлами и папками:\n",
        "Создание папки:"
      ],
      "metadata": {
        "id": "W-86E_SOJlEY"
      }
    },
    {
      "cell_type": "code",
      "execution_count": null,
      "metadata": {
        "id": "mkrnJBWEJSWG"
      },
      "outputs": [],
      "source": [
        "\n",
        "import os\n",
        "os.mkdir(\"название_папки\")"
      ]
    },
    {
      "cell_type": "markdown",
      "source": [
        "Создание файла:"
      ],
      "metadata": {
        "id": "u_mIu5oFJpBz"
      }
    },
    {
      "cell_type": "code",
      "source": [
        "\n",
        "with open(\"название_файла.txt\", \"w\") as file:\n",
        "    file.write(\"Текст для файла\")\n"
      ],
      "metadata": {
        "id": "rAY9Wo6PJr8H"
      },
      "execution_count": null,
      "outputs": []
    },
    {
      "cell_type": "markdown",
      "source": [
        "  Проверка существования файла или папки:\n",
        "\n"
      ],
      "metadata": {
        "id": "Cml71H7vKCn7"
      }
    },
    {
      "cell_type": "code",
      "source": [
        "import os\n",
        "os.path.exists(\"название_файла_или_папки\")"
      ],
      "metadata": {
        "colab": {
          "base_uri": "https://localhost:8080/"
        },
        "id": "Az9YJapSKB4v",
        "outputId": "ca6b57c6-5dcd-4eac-f87d-f14c2461907b"
      },
      "execution_count": null,
      "outputs": [
        {
          "output_type": "execute_result",
          "data": {
            "text/plain": [
              "False"
            ]
          },
          "metadata": {},
          "execution_count": 2
        }
      ]
    },
    {
      "cell_type": "markdown",
      "source": [
        "Удаление файла или папки:"
      ],
      "metadata": {
        "id": "n4MuZ_c8KKaE"
      }
    },
    {
      "cell_type": "code",
      "source": [
        "import os\n",
        "os.remove(\"название_файла\")\n",
        "os.rmdir(\"название_папки\")\n"
      ],
      "metadata": {
        "id": "rVbpT_roKUs1"
      },
      "execution_count": null,
      "outputs": []
    },
    {
      "cell_type": "markdown",
      "source": [
        "переимновать файл или папку:"
      ],
      "metadata": {
        "id": "1j8HqvwZKr_T"
      }
    },
    {
      "cell_type": "code",
      "source": [
        "import os\n",
        "os.rename(\"старое_название\", \"новое_название\")\n"
      ],
      "metadata": {
        "id": "N8yHt6eFKZvT"
      },
      "execution_count": null,
      "outputs": []
    },
    {
      "cell_type": "markdown",
      "source": [
        "Получение списка файлов в папке:"
      ],
      "metadata": {
        "id": "HiQW074nKeo7"
      }
    },
    {
      "cell_type": "code",
      "source": [
        "import os\n",
        "os.listdir(\"название_папки\")"
      ],
      "metadata": {
        "id": "LU5LAZyyK-Yh"
      },
      "execution_count": null,
      "outputs": []
    },
    {
      "cell_type": "markdown",
      "source": [
        "Получение текущей директории:\n",
        "\n"
      ],
      "metadata": {
        "id": "esCaBTKTLEs0"
      }
    },
    {
      "cell_type": "code",
      "source": [
        "import os\n",
        "current_directory = os.getcwd()"
      ],
      "metadata": {
        "id": "6aZqWe75LPoz"
      },
      "execution_count": null,
      "outputs": []
    },
    {
      "cell_type": "markdown",
      "source": [
        "Изменение текущей директории:\n"
      ],
      "metadata": {
        "id": "CU0HVfBrLTZo"
      }
    },
    {
      "cell_type": "code",
      "source": [
        "import os\n",
        "os.chdir(\"путь_к_новой_директории\")\n"
      ],
      "metadata": {
        "id": "b1sAPlJiLWaz"
      },
      "execution_count": null,
      "outputs": []
    },
    {
      "cell_type": "markdown",
      "source": [
        "Получение атрибутов файла:\n",
        "\n"
      ],
      "metadata": {
        "id": "lXeU338ILb7R"
      }
    },
    {
      "cell_type": "code",
      "source": [
        "import os\n",
        "os.path.getsize(\"название_файла\")\n",
        "os.path.getmtime(\"название_файла\")  # Время последнего изменения"
      ],
      "metadata": {
        "id": "qPyN_N8XLeCb"
      },
      "execution_count": null,
      "outputs": []
    }
  ]
}